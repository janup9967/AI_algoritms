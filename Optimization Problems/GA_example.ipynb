{
  "nbformat": 4,
  "nbformat_minor": 0,
  "metadata": {
    "colab": {
      "name": "GA_example.ipynb",
      "provenance": []
    },
    "kernelspec": {
      "name": "python3",
      "display_name": "Python 3"
    },
    "language_info": {
      "name": "python"
    }
  },
  "cells": [
    {
      "cell_type": "markdown",
      "source": [
        "# Genetic Algorithms"
      ],
      "metadata": {
        "id": "yrqAN_g43wFt"
      }
    },
    {
      "cell_type": "markdown",
      "source": [
        "The y=target is to maximize this equation ASAP:\n",
        "\n",
        "> **y = w1x1 + w2x2 + w3x3 + w4x4 + w5x5 + w6x6**\n",
        "\n",
        "\n",
        "  where (x1,x2,x3,x4,x5,x6)=(4,-2,3.5,5,-11,-4.7)\n",
        "\n",
        "  What are the best values for the 6 weights w1 to w6?\n",
        "\n",
        "  We are going to use the genetic algorithm for the best possible values after a number of generations.\n",
        "\n",
        "  **decimal representation for genes, one point crossover, and uniform mutation**\n",
        "\n"
      ],
      "metadata": {
        "id": "ccNDB_Ex39-6"
      }
    },
    {
      "cell_type": "code",
      "source": [
        "import numpy as np"
      ],
      "metadata": {
        "id": "w_Z3xRZ3xNyf"
      },
      "execution_count": 25,
      "outputs": []
    },
    {
      "cell_type": "markdown",
      "source": [
        "Define the initial population. Based on the number of weights, each chromosome (solution or individual) in the population will definitely have 6 genes, one gene for each weight"
      ],
      "metadata": {
        "id": "PLuyaRWP-pKA"
      }
    },
    {
      "cell_type": "code",
      "source": [
        "# Inputs of the equation.\n",
        "equation_inputs = [4,-2,3.5,5,-11,-4.7]\n",
        "\n",
        "# Number of the weights we are looking to optimize.\n",
        "num_weights = len(equation_inputs)"
      ],
      "metadata": {
        "id": "jU3kqgs1xOuq"
      },
      "execution_count": 26,
      "outputs": []
    },
    {
      "cell_type": "code",
      "source": [
        "sol_per_pop = 8\n",
        "num_parents_mating = 4\n",
        "\n",
        "# Defining the population size.\n",
        "pop_size = (sol_per_pop,num_weights) # The population will have sol_per_pop chromosome where each chromosome has num_weights genes.\n",
        "#Creating the initial population.\n",
        "new_population = np.random.uniform(low=-4.0, high=4.0, size=pop_size)\n",
        "print(new_population)"
      ],
      "metadata": {
        "colab": {
          "base_uri": "https://localhost:8080/"
        },
        "id": "LpdRMHBU5b-_",
        "outputId": "9e32a0f7-0c1b-4ac2-c0ba-7e4109e9a84e"
      },
      "execution_count": 28,
      "outputs": [
        {
          "output_type": "stream",
          "name": "stdout",
          "text": [
            "[[-2.60838951  3.9680872   0.81499088  0.06990784  0.72017331  2.81647569]\n",
            " [ 3.17424301 -1.96984974 -2.01239237  0.42961801  0.16543843  0.42058936]\n",
            " [-2.47913329 -2.87658121  2.76478728  2.43625586 -0.51595442 -2.90050436]\n",
            " [-2.72591994 -3.15252995 -3.48349337  2.94211972  3.50846069 -0.8512083 ]\n",
            " [-1.14786097  2.64344672  0.30150604 -2.94182554 -2.1913778  -1.92580012]\n",
            " [ 0.25004635  3.63024754 -3.96627756  0.15482154 -0.25154305 -1.53731123]\n",
            " [-2.56378604  1.68878848  2.28139494  3.11695968  3.11491469 -2.39886294]\n",
            " [ 0.88008038 -3.63893617  0.14318161 -1.89488944 -1.63279932  0.77852731]]\n"
          ]
        }
      ]
    },
    {
      "cell_type": "markdown",
      "source": [
        "**Genetic algorithm:**\n",
        "\n",
        "> Fitness Calculation\n",
        "\n",
        ">  Mating Pool\n",
        "\n",
        "> Parent Selection\n",
        "\n",
        "> Crossover\n",
        "\n",
        "> Mutation\n",
        "\n",
        "\n",
        "\n",
        "\n",
        "\n",
        "\n"
      ],
      "metadata": {
        "id": "GqXLCpvO5fRz"
      }
    },
    {
      "cell_type": "code",
      "source": [
        "def cal_pop_fitness(equation_inputs, pop):\n",
        "    # Calculating the fitness value of each solution in the current population.\n",
        "    # The fitness function calulates the sum of products between each input and its corresponding weight.\n",
        "    # fitness value is the target variable (y)\n",
        "    fitness = np.sum(pop*equation_inputs, axis=1)\n",
        "    return fitness\n",
        "\n",
        "def select_mating_pool(pop, fitness, num_parents):\n",
        "    # Selecting the best individuals in the current generation as parents for producing the offspring of the next generation.\n",
        "    parents = np.empty((num_parents, pop.shape[1]))\n",
        "    for parent_num in range(num_parents):\n",
        "        max_fitness_idx = np.where(fitness == np.max(fitness))\n",
        "        max_fitness_idx = max_fitness_idx[0][0]\n",
        "        parents[parent_num, :] = pop[max_fitness_idx, :]\n",
        "        fitness[max_fitness_idx] = -99999999999\n",
        "    return parents\n",
        "\n",
        "def crossover(parents, offspring_size):\n",
        "    offspring = np.empty(offspring_size)\n",
        "    # The point at which crossover takes place between two parents. Usually, it is at the center.\n",
        "    crossover_point = np.uint8(offspring_size[1]/2)\n",
        "\n",
        "    for k in range(offspring_size[0]):\n",
        "        # Index of the first parent to mate.\n",
        "        parent1_idx = k%parents.shape[0]\n",
        "        # Index of the second parent to mate.\n",
        "        parent2_idx = (k+1)%parents.shape[0]\n",
        "        # The new offspring will have its first half of its genes taken from the first parent.\n",
        "        offspring[k, 0:crossover_point] = parents[parent1_idx, 0:crossover_point]\n",
        "        # The new offspring will have its second half of its genes taken from the second parent.\n",
        "        offspring[k, crossover_point:] = parents[parent2_idx, crossover_point:]\n",
        "    return offspring\n",
        "\n",
        "def mutation(offspring_crossover, num_mutations=1):\n",
        "    mutations_counter = np.uint8(offspring_crossover.shape[1] / num_mutations)\n",
        "    # Mutation changes a number of genes as defined by the num_mutations argument. The changes are random.\n",
        "    for idx in range(offspring_crossover.shape[0]):\n",
        "        gene_idx = mutations_counter - 1\n",
        "        for mutation_num in range(num_mutations):\n",
        "            # The random value to be added to the gene.\n",
        "            random_value = np.random.uniform(-1.0, 1.0, 1)\n",
        "            offspring_crossover[idx, gene_idx] = offspring_crossover[idx, gene_idx] + random_value\n",
        "            gene_idx = gene_idx + mutations_counter\n",
        "    return offspring_crossover"
      ],
      "metadata": {
        "id": "0w-LVGYzxn9a"
      },
      "execution_count": 27,
      "outputs": []
    },
    {
      "cell_type": "code",
      "source": [
        "best_outputs = []\n",
        "num_generations = 10\n",
        "for generation in range(num_generations):\n",
        "    print(\"Generation : \", generation)\n",
        "    # Measuring the fitness of each chromosome in the population.\n",
        "    fitness = cal_pop_fitness(equation_inputs, new_population)\n",
        "    print(\"Fitness\")\n",
        "    print(fitness)\n",
        "    best_outputs.append(np.max(np.sum(new_population*equation_inputs, axis=1)))\n",
        "    # The best result in the current iteration.\n",
        "    print(\"Best result : \", np.max(np.sum(new_population*equation_inputs, axis=1)))\n",
        "\n",
        "    # Selecting the best parents in the population for mating.\n",
        "    parents = select_mating_pool(new_population, fitness, \n",
        "                                      num_parents_mating)\n",
        "    print(\"Parents\")\n",
        "    print(parents)\n",
        "\n",
        "    # Generating next generation using crossover.\n",
        "    offspring_crossover = crossover(parents,\n",
        "                                       offspring_size=(pop_size[0]-parents.shape[0], num_weights))\n",
        "    print(\"Crossover\")\n",
        "    print(offspring_crossover)\n",
        "\n",
        "    # Adding some variations to the offspring using mutation.\n",
        "    offspring_mutation = mutation(offspring_crossover, num_mutations=2)\n",
        "    print(\"Mutation\")\n",
        "    print(offspring_mutation)\n",
        "\n",
        "    # Creating the new population based on the parents and offspring.\n",
        "    new_population[0:parents.shape[0], :] = parents\n",
        "    new_population[parents.shape[0]:, :] = offspring_mutation"
      ],
      "metadata": {
        "colab": {
          "base_uri": "https://localhost:8080/"
        },
        "id": "_FCTNbuD6JK6",
        "outputId": "d9521c9c-2b8c-47de-b705-2e9fb8d41854"
      },
      "execution_count": 29,
      "outputs": [
        {
          "output_type": "stream",
          "name": "stdout",
          "text": [
            "Generation :  0\n",
            "Fitness\n",
            "[-36.32706737   7.94479554  37.00253313 -36.6726366    9.62422238\n",
            "  -9.37583712 -13.05244618  16.12659643]\n",
            "Best result :  37.00253312742181\n",
            "Parents\n",
            "[[-2.47913329 -2.87658121  2.76478728  2.43625586 -0.51595442 -2.90050436]\n",
            " [ 0.88008038 -3.63893617  0.14318161 -1.89488944 -1.63279932  0.77852731]\n",
            " [-1.14786097  2.64344672  0.30150604 -2.94182554 -2.1913778  -1.92580012]\n",
            " [ 3.17424301 -1.96984974 -2.01239237  0.42961801  0.16543843  0.42058936]]\n",
            "Crossover\n",
            "[[-2.47913329 -2.87658121  2.76478728 -1.89488944 -1.63279932  0.77852731]\n",
            " [ 0.88008038 -3.63893617  0.14318161 -2.94182554 -2.1913778  -1.92580012]\n",
            " [-1.14786097  2.64344672  0.30150604  0.42961801  0.16543843  0.42058936]\n",
            " [ 3.17424301 -1.96984974 -2.01239237  2.43625586 -0.51595442 -2.90050436]]\n",
            "Mutation\n",
            "[[-2.47913329 -2.87658121  2.82757027 -1.89488944 -1.63279932  0.79469878]\n",
            " [ 0.88008038 -3.63893617  0.23647766 -2.94182554 -2.1913778  -2.12496663]\n",
            " [-1.14786097  2.64344672  0.94350957  0.42961801  0.16543843  0.63128403]\n",
            " [ 3.17424301 -1.96984974 -1.80425936  2.43625586 -0.51595442 -3.854581  ]]\n",
            "Generation :  1\n",
            "Fitness\n",
            "[37.00253313 16.12659643  9.62422238  7.94479554 10.48438621 31.00923689\n",
            " -9.21482149 46.29507238]\n",
            "Best result :  46.29507237867867\n",
            "Parents\n",
            "[[ 3.17424301 -1.96984974 -1.80425936  2.43625586 -0.51595442 -3.854581  ]\n",
            " [-2.47913329 -2.87658121  2.76478728  2.43625586 -0.51595442 -2.90050436]\n",
            " [ 0.88008038 -3.63893617  0.23647766 -2.94182554 -2.1913778  -2.12496663]\n",
            " [ 0.88008038 -3.63893617  0.14318161 -1.89488944 -1.63279932  0.77852731]]\n",
            "Crossover\n",
            "[[ 3.17424301 -1.96984974 -1.80425936  2.43625586 -0.51595442 -2.90050436]\n",
            " [-2.47913329 -2.87658121  2.76478728 -2.94182554 -2.1913778  -2.12496663]\n",
            " [ 0.88008038 -3.63893617  0.23647766 -1.89488944 -1.63279932  0.77852731]\n",
            " [ 0.88008038 -3.63893617  0.14318161  2.43625586 -0.51595442 -3.854581  ]]\n",
            "Mutation\n",
            "[[ 3.17424301 -1.96984974 -1.3075769   2.43625586 -0.51595442 -2.99089891]\n",
            " [-2.47913329 -2.87658121  3.52167131 -2.94182554 -2.1913778  -2.90074562]\n",
            " [ 0.88008038 -3.63893617  0.6893951  -1.89488944 -1.63279932  1.71856276]\n",
            " [ 0.88008038 -3.63893617 -0.20679258  2.43625586 -0.51595442 -4.13270674]]\n",
            "Generation :  2\n",
            "Fitness\n",
            "[46.29507238 37.00253313 31.00923689 16.12659643 43.9741552  31.19201131\n",
            " 13.62017704 47.35491945]\n",
            "Best result :  47.35491945160874\n",
            "Parents\n",
            "[[ 0.88008038 -3.63893617 -0.20679258  2.43625586 -0.51595442 -4.13270674]\n",
            " [ 3.17424301 -1.96984974 -1.80425936  2.43625586 -0.51595442 -3.854581  ]\n",
            " [ 3.17424301 -1.96984974 -1.3075769   2.43625586 -0.51595442 -2.99089891]\n",
            " [-2.47913329 -2.87658121  2.76478728  2.43625586 -0.51595442 -2.90050436]]\n",
            "Crossover\n",
            "[[ 0.88008038 -3.63893617 -0.20679258  2.43625586 -0.51595442 -3.854581  ]\n",
            " [ 3.17424301 -1.96984974 -1.80425936  2.43625586 -0.51595442 -2.99089891]\n",
            " [ 3.17424301 -1.96984974 -1.3075769   2.43625586 -0.51595442 -2.90050436]\n",
            " [-2.47913329 -2.87658121  2.76478728  2.43625586 -0.51595442 -4.13270674]]\n",
            "Mutation\n",
            "[[ 0.88008038 -3.63893617  0.70873113  2.43625586 -0.51595442 -3.95476078]\n",
            " [ 3.17424301 -1.96984974 -2.43215615  2.43625586 -0.51595442 -2.90316836]\n",
            " [ 3.17424301 -1.96984974 -1.02846573  2.43625586 -0.51595442 -3.83410515]\n",
            " [-2.47913329 -2.87658121  2.62552844  2.43625586 -0.51595442 -5.04705614]]\n",
            "Generation :  3\n",
            "Fitness\n",
            "[47.35491945 46.29507238 43.9741552  37.00253313 49.72290642 39.62579422\n",
            " 48.91411358 46.60392056]\n",
            "Best result :  49.72290642465981\n",
            "Parents\n",
            "[[ 0.88008038 -3.63893617  0.70873113  2.43625586 -0.51595442 -3.95476078]\n",
            " [ 3.17424301 -1.96984974 -1.02846573  2.43625586 -0.51595442 -3.83410515]\n",
            " [ 0.88008038 -3.63893617 -0.20679258  2.43625586 -0.51595442 -4.13270674]\n",
            " [-2.47913329 -2.87658121  2.62552844  2.43625586 -0.51595442 -5.04705614]]\n",
            "Crossover\n",
            "[[ 0.88008038 -3.63893617  0.70873113  2.43625586 -0.51595442 -3.83410515]\n",
            " [ 3.17424301 -1.96984974 -1.02846573  2.43625586 -0.51595442 -4.13270674]\n",
            " [ 0.88008038 -3.63893617 -0.20679258  2.43625586 -0.51595442 -5.04705614]\n",
            " [-2.47913329 -2.87658121  2.62552844  2.43625586 -0.51595442 -3.95476078]]\n",
            "Mutation\n",
            "[[ 0.88008038 -3.63893617  0.62533427  2.43625586 -0.51595442 -3.09918669]\n",
            " [ 3.17424301 -1.96984974 -1.65833105  2.43625586 -0.51595442 -4.86596833]\n",
            " [ 0.88008038 -3.63893617 -0.34214858  2.43625586 -0.51595442 -5.0743029 ]\n",
            " [-2.47913329 -2.87658121  2.20808815  2.43625586 -0.51595442 -4.42090685]]\n",
            "Generation :  4\n",
            "Fitness\n",
            "[49.72290642 48.91411358 47.35491945 46.60392056 45.40981918 51.55934193\n",
            " 51.30667541 42.19997792]\n",
            "Best result :  51.559341925287285\n",
            "Parents\n",
            "[[ 3.17424301 -1.96984974 -1.65833105  2.43625586 -0.51595442 -4.86596833]\n",
            " [ 0.88008038 -3.63893617 -0.34214858  2.43625586 -0.51595442 -5.0743029 ]\n",
            " [ 0.88008038 -3.63893617  0.70873113  2.43625586 -0.51595442 -3.95476078]\n",
            " [ 3.17424301 -1.96984974 -1.02846573  2.43625586 -0.51595442 -3.83410515]]\n",
            "Crossover\n",
            "[[ 3.17424301 -1.96984974 -1.65833105  2.43625586 -0.51595442 -5.0743029 ]\n",
            " [ 0.88008038 -3.63893617 -0.34214858  2.43625586 -0.51595442 -3.95476078]\n",
            " [ 0.88008038 -3.63893617  0.70873113  2.43625586 -0.51595442 -3.83410515]\n",
            " [ 3.17424301 -1.96984974 -1.02846573  2.43625586 -0.51595442 -4.86596833]]\n",
            "Mutation\n",
            "[[ 3.17424301 -1.96984974 -1.71380086  2.43625586 -0.51595442 -4.62317288]\n",
            " [ 0.88008038 -3.63893617 -1.1562542   2.43625586 -0.51595442 -4.44549786]\n",
            " [ 0.88008038 -3.63893617  0.82368862  2.43625586 -0.51595442 -3.88254639]\n",
            " [ 3.17424301 -1.96984974 -0.32952726  2.43625586 -0.51595442 -5.66899304]]\n",
            "Generation :  5\n",
            "Fitness\n",
            "[51.55934193 51.30667541 49.72290642 48.91411358 50.22405894 45.50192203\n",
            " 49.78585001 59.98437132]\n",
            "Best result :  59.98437131722383\n",
            "Parents\n",
            "[[ 3.17424301 -1.96984974 -0.32952726  2.43625586 -0.51595442 -5.66899304]\n",
            " [ 3.17424301 -1.96984974 -1.65833105  2.43625586 -0.51595442 -4.86596833]\n",
            " [ 0.88008038 -3.63893617 -0.34214858  2.43625586 -0.51595442 -5.0743029 ]\n",
            " [ 3.17424301 -1.96984974 -1.71380086  2.43625586 -0.51595442 -4.62317288]]\n",
            "Crossover\n",
            "[[ 3.17424301 -1.96984974 -0.32952726  2.43625586 -0.51595442 -4.86596833]\n",
            " [ 3.17424301 -1.96984974 -1.65833105  2.43625586 -0.51595442 -5.0743029 ]\n",
            " [ 0.88008038 -3.63893617 -0.34214858  2.43625586 -0.51595442 -4.62317288]\n",
            " [ 3.17424301 -1.96984974 -1.71380086  2.43625586 -0.51595442 -5.66899304]]\n",
            "Mutation\n",
            "[[ 3.17424301 -1.96984974 -0.64845683  2.43625586 -0.51595442 -5.60424813]\n",
            " [ 3.17424301 -1.96984974 -0.85045276  2.43625586 -0.51595442 -5.16474038]\n",
            " [ 0.88008038 -3.63893617 -1.1005491   2.43625586 -0.51595442 -3.94497311]\n",
            " [ 3.17424301 -1.96984974 -1.156898    2.43625586 -0.51595442 -5.52247671]]\n",
            "Generation :  6\n",
            "Fitness\n",
            "[59.98437132 51.55934193 51.30667541 50.22405894 58.56381677 55.79114456\n",
            " 43.34442354 56.39994697]\n",
            "Best result :  59.98437131722383\n",
            "Parents\n",
            "[[ 3.17424301 -1.96984974 -0.32952726  2.43625586 -0.51595442 -5.66899304]\n",
            " [ 3.17424301 -1.96984974 -0.64845683  2.43625586 -0.51595442 -5.60424813]\n",
            " [ 3.17424301 -1.96984974 -1.156898    2.43625586 -0.51595442 -5.52247671]\n",
            " [ 3.17424301 -1.96984974 -0.85045276  2.43625586 -0.51595442 -5.16474038]]\n",
            "Crossover\n",
            "[[ 3.17424301 -1.96984974 -0.32952726  2.43625586 -0.51595442 -5.60424813]\n",
            " [ 3.17424301 -1.96984974 -0.64845683  2.43625586 -0.51595442 -5.52247671]\n",
            " [ 3.17424301 -1.96984974 -1.156898    2.43625586 -0.51595442 -5.16474038]\n",
            " [ 3.17424301 -1.96984974 -0.85045276  2.43625586 -0.51595442 -5.66899304]]\n",
            "Mutation\n",
            "[[ 3.17424301 -1.96984974 -1.07620077  2.43625586 -0.51595442 -5.07714502]\n",
            " [ 3.17424301 -1.96984974  0.19676344  2.43625586 -0.51595442 -6.1522578 ]\n",
            " [ 3.17424301 -1.96984974 -1.99028916  2.43625586 -0.51595442 -5.93689516]\n",
            " [ 3.17424301 -1.96984974 -0.05386621  2.43625586 -0.51595442 -5.03464553]]\n",
            "Generation :  7\n",
            "Fitness\n",
            "[59.98437132 58.56381677 56.39994697 55.79114456 54.58932833 64.09773313\n",
            " 55.43084464 57.96775169]\n",
            "Best result :  64.09773312717205\n",
            "Parents\n",
            "[[ 3.17424301 -1.96984974  0.19676344  2.43625586 -0.51595442 -6.1522578 ]\n",
            " [ 3.17424301 -1.96984974 -0.32952726  2.43625586 -0.51595442 -5.66899304]\n",
            " [ 3.17424301 -1.96984974 -0.64845683  2.43625586 -0.51595442 -5.60424813]\n",
            " [ 3.17424301 -1.96984974 -0.05386621  2.43625586 -0.51595442 -5.03464553]]\n",
            "Crossover\n",
            "[[ 3.17424301 -1.96984974  0.19676344  2.43625586 -0.51595442 -5.66899304]\n",
            " [ 3.17424301 -1.96984974 -0.32952726  2.43625586 -0.51595442 -5.60424813]\n",
            " [ 3.17424301 -1.96984974 -0.64845683  2.43625586 -0.51595442 -5.03464553]\n",
            " [ 3.17424301 -1.96984974 -0.05386621  2.43625586 -0.51595442 -6.1522578 ]]\n",
            "Mutation\n",
            "[[ 3.17424301 -1.96984974  1.10338418  2.43625586 -0.51595442 -5.582151  ]\n",
            " [ 3.17424301 -1.96984974 -0.84472315  2.43625586 -0.51595442 -5.16908198]\n",
            " [ 3.17424301 -1.96984974 -0.97193482  2.43625586 -0.51595442 -4.05248574]\n",
            " [ 3.17424301 -1.96984974  0.10763054  2.43625586 -0.51595442 -5.68721784]]\n",
            "Generation :  8\n",
            "Fitness\n",
            "[64.09773313 59.98437132 58.56381677 57.96775169 64.59140376 55.83160372\n",
            " 50.13836054 61.60008015]\n",
            "Best result :  64.59140375540275\n",
            "Parents\n",
            "[[ 3.17424301 -1.96984974  1.10338418  2.43625586 -0.51595442 -5.582151  ]\n",
            " [ 3.17424301 -1.96984974  0.19676344  2.43625586 -0.51595442 -6.1522578 ]\n",
            " [ 3.17424301 -1.96984974  0.10763054  2.43625586 -0.51595442 -5.68721784]\n",
            " [ 3.17424301 -1.96984974 -0.32952726  2.43625586 -0.51595442 -5.66899304]]\n",
            "Crossover\n",
            "[[ 3.17424301 -1.96984974  1.10338418  2.43625586 -0.51595442 -6.1522578 ]\n",
            " [ 3.17424301 -1.96984974  0.19676344  2.43625586 -0.51595442 -5.68721784]\n",
            " [ 3.17424301 -1.96984974  0.10763054  2.43625586 -0.51595442 -5.66899304]\n",
            " [ 3.17424301 -1.96984974 -0.32952726  2.43625586 -0.51595442 -5.582151  ]]\n",
            "Mutation\n",
            "[[ 3.17424301 -1.96984974  0.40788335  2.43625586 -0.51595442 -6.97754728]\n",
            " [ 3.17424301 -1.96984974  0.01750067  2.43625586 -0.51595442 -6.02942479]\n",
            " [ 3.17424301 -1.96984974 -0.66633048  2.43625586 -0.51595442 -5.58170068]\n",
            " [ 3.17424301 -1.96984974  0.35930072  2.43625586 -0.51595442 -6.40689756]]\n",
            "Generation :  9\n",
            "Fitness\n",
            "[64.59140376 64.09773313 61.60008015 59.98437132 68.71551338 62.89299829\n",
            " 58.39528595 65.86342048]\n",
            "Best result :  68.71551338223357\n",
            "Parents\n",
            "[[ 3.17424301 -1.96984974  0.40788335  2.43625586 -0.51595442 -6.97754728]\n",
            " [ 3.17424301 -1.96984974  0.35930072  2.43625586 -0.51595442 -6.40689756]\n",
            " [ 3.17424301 -1.96984974  1.10338418  2.43625586 -0.51595442 -5.582151  ]\n",
            " [ 3.17424301 -1.96984974  0.19676344  2.43625586 -0.51595442 -6.1522578 ]]\n",
            "Crossover\n",
            "[[ 3.17424301 -1.96984974  0.40788335  2.43625586 -0.51595442 -6.40689756]\n",
            " [ 3.17424301 -1.96984974  0.35930072  2.43625586 -0.51595442 -5.582151  ]\n",
            " [ 3.17424301 -1.96984974  1.10338418  2.43625586 -0.51595442 -6.1522578 ]\n",
            " [ 3.17424301 -1.96984974  0.19676344  2.43625586 -0.51595442 -6.97754728]]\n",
            "Mutation\n",
            "[[ 3.17424301 -1.96984974  1.24527309  2.43625586 -0.51595442 -5.69888094]\n",
            " [ 3.17424301 -1.96984974  0.02366285  2.43625586 -0.51595442 -4.65054068]\n",
            " [ 3.17424301 -1.96984974  0.69659129  2.43625586 -0.51595442 -5.65135776]\n",
            " [ 3.17424301 -1.96984974  0.32941721  2.43625586 -0.51595442 -6.03292688]]\n"
          ]
        }
      ]
    },
    {
      "cell_type": "markdown",
      "source": [
        "Best result after higher generation now has a fitness value compared to the best result after the first generation"
      ],
      "metadata": {
        "id": "Z0NQ85cuB_i2"
      }
    },
    {
      "cell_type": "code",
      "source": [
        "# Getting the best solution after iterating finishing all generations.\n",
        "#At first, the fitness is calculated for each solution in the final generation.\n",
        "fitness = cal_pop_fitness(equation_inputs, new_population)\n",
        "# Then return the index of that solution corresponding to the best fitness.\n",
        "best_match_idx = np.where(fitness == np.max(fitness))\n",
        "\n",
        "print(\"Best solution : \", new_population[best_match_idx, :])\n",
        "print(\"Best solution fitness : \", fitness[best_match_idx])"
      ],
      "metadata": {
        "colab": {
          "base_uri": "https://localhost:8080/"
        },
        "id": "NscVcdw17YKM",
        "outputId": "c0f58938-3b83-4cab-f97a-f300dc688716"
      },
      "execution_count": 30,
      "outputs": [
        {
          "output_type": "stream",
          "name": "stdout",
          "text": [
            "Best solution :  [[[ 3.17424301 -1.96984974  0.40788335  2.43625586 -0.51595442\n",
            "   -6.97754728]]]\n",
            "Best solution fitness :  [68.71551338]\n"
          ]
        }
      ]
    },
    {
      "cell_type": "code",
      "source": [
        "import matplotlib.pyplot\n",
        "matplotlib.pyplot.plot(best_outputs)\n",
        "matplotlib.pyplot.xlabel(\"Iteration\")\n",
        "matplotlib.pyplot.ylabel(\"Fitness\")\n",
        "matplotlib.pyplot.show()"
      ],
      "metadata": {
        "colab": {
          "base_uri": "https://localhost:8080/",
          "height": 284
        },
        "id": "A06Ua5Kl7bBY",
        "outputId": "af9fcca4-a648-4abd-b162-6c136b821a37"
      },
      "execution_count": 31,
      "outputs": [
        {
          "output_type": "display_data",
          "data": {
            "text/plain": [
              "<Figure size 432x288 with 1 Axes>"
            ],
            "image/png": "[encoded data removed]"
          },
          "metadata": {}
        }
      ]
    }
  ]
}